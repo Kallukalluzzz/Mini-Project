{
  "nbformat": 4,
  "nbformat_minor": 0,
  "metadata": {
    "colab": {
      "name": "Copy of Miniproject SVM.ipynb",
      "provenance": [],
      "collapsed_sections": [],
      "authorship_tag": "ABX9TyP8EG8/pXVC9qrBdH6TIQVX",
      "include_colab_link": true
    },
    "kernelspec": {
      "name": "python3",
      "display_name": "Python 3"
    },
    "language_info": {
      "name": "python"
    }
  },
  "cells": [
    {
      "cell_type": "markdown",
      "metadata": {
        "id": "view-in-github",
        "colab_type": "text"
      },
      "source": [
        "<a href=\"https://colab.research.google.com/github/Kallukalluzzz/Mini-Project/blob/main/Copy_of_Miniproject_SVM.ipynb\" target=\"_parent\"><img src=\"https://colab.research.google.com/assets/colab-badge.svg\" alt=\"Open In Colab\"/></a>"
      ]
    },
    {
      "cell_type": "code",
      "execution_count": 9,
      "metadata": {
        "id": "HeQ5TG26-Ahi"
      },
      "outputs": [],
      "source": [
        "import pandas as pd\n",
        "import seaborn as sns\n",
        "import numpy as np\n",
        "import matplotlib.pyplot as plt\n",
        "import os\n",
        "from pandas_profiling import ProfileReport"
      ]
    },
    {
      "cell_type": "code",
      "source": [
        "data=pd.read_csv(\"/content/DGA dataset_new.csv\")"
      ],
      "metadata": {
        "id": "jWb4hqQdGKCg"
      },
      "execution_count": 10,
      "outputs": []
    },
    {
      "cell_type": "code",
      "source": [
        "data"
      ],
      "metadata": {
        "colab": {
          "base_uri": "https://localhost:8080/",
          "height": 424
        },
        "id": "IrJlQ6_rGUq9",
        "outputId": "f4936907-75bf-477f-9b09-1e6379a70c8d"
      },
      "execution_count": 11,
      "outputs": [
        {
          "output_type": "execute_result",
          "data": {
            "text/plain": [
              "      NM       H2      CH4    C2H6    C2H4    C2H2               Type\n",
              "0      1   3930.0   2397.0   157.0     0.0     0.0  Partial discharge\n",
              "1      2  37800.0   1740.0   249.0     8.0     8.0  Partial discharge\n",
              "2      3  92600.0  10200.0     0.0     0.0     0.0  Partial discharge\n",
              "3      4   8266.0   1061.0    22.0     0.0     0.0  Partial discharge\n",
              "4      5   9340.0    995.0    60.0     6.0     7.0  Partial discharge\n",
              "..   ...      ...      ...     ...     ...     ...                ...\n",
              "266  267   2443.0   3422.0  7852.0  3000.0  6394.0           No fault\n",
              "267  268   4395.0   5201.0  6933.0  6788.0  2121.0           No fault\n",
              "268  269   7613.0   1120.0  3363.0  4751.0  3393.0           No fault\n",
              "269  270   2366.0   1031.0  5909.0   108.0  7025.0           No fault\n",
              "270  271   5054.0   4144.0  4174.0  7020.0  6974.0           No fault\n",
              "\n",
              "[271 rows x 7 columns]"
            ],
            "text/html": [
              "\n",
              "  <div id=\"df-42f4e43b-f624-4b9b-8f19-b5196c80ba5f\">\n",
              "    <div class=\"colab-df-container\">\n",
              "      <div>\n",
              "<style scoped>\n",
              "    .dataframe tbody tr th:only-of-type {\n",
              "        vertical-align: middle;\n",
              "    }\n",
              "\n",
              "    .dataframe tbody tr th {\n",
              "        vertical-align: top;\n",
              "    }\n",
              "\n",
              "    .dataframe thead th {\n",
              "        text-align: right;\n",
              "    }\n",
              "</style>\n",
              "<table border=\"1\" class=\"dataframe\">\n",
              "  <thead>\n",
              "    <tr style=\"text-align: right;\">\n",
              "      <th></th>\n",
              "      <th>NM</th>\n",
              "      <th>H2</th>\n",
              "      <th>CH4</th>\n",
              "      <th>C2H6</th>\n",
              "      <th>C2H4</th>\n",
              "      <th>C2H2</th>\n",
              "      <th>Type</th>\n",
              "    </tr>\n",
              "  </thead>\n",
              "  <tbody>\n",
              "    <tr>\n",
              "      <th>0</th>\n",
              "      <td>1</td>\n",
              "      <td>3930.0</td>\n",
              "      <td>2397.0</td>\n",
              "      <td>157.0</td>\n",
              "      <td>0.0</td>\n",
              "      <td>0.0</td>\n",
              "      <td>Partial discharge</td>\n",
              "    </tr>\n",
              "    <tr>\n",
              "      <th>1</th>\n",
              "      <td>2</td>\n",
              "      <td>37800.0</td>\n",
              "      <td>1740.0</td>\n",
              "      <td>249.0</td>\n",
              "      <td>8.0</td>\n",
              "      <td>8.0</td>\n",
              "      <td>Partial discharge</td>\n",
              "    </tr>\n",
              "    <tr>\n",
              "      <th>2</th>\n",
              "      <td>3</td>\n",
              "      <td>92600.0</td>\n",
              "      <td>10200.0</td>\n",
              "      <td>0.0</td>\n",
              "      <td>0.0</td>\n",
              "      <td>0.0</td>\n",
              "      <td>Partial discharge</td>\n",
              "    </tr>\n",
              "    <tr>\n",
              "      <th>3</th>\n",
              "      <td>4</td>\n",
              "      <td>8266.0</td>\n",
              "      <td>1061.0</td>\n",
              "      <td>22.0</td>\n",
              "      <td>0.0</td>\n",
              "      <td>0.0</td>\n",
              "      <td>Partial discharge</td>\n",
              "    </tr>\n",
              "    <tr>\n",
              "      <th>4</th>\n",
              "      <td>5</td>\n",
              "      <td>9340.0</td>\n",
              "      <td>995.0</td>\n",
              "      <td>60.0</td>\n",
              "      <td>6.0</td>\n",
              "      <td>7.0</td>\n",
              "      <td>Partial discharge</td>\n",
              "    </tr>\n",
              "    <tr>\n",
              "      <th>...</th>\n",
              "      <td>...</td>\n",
              "      <td>...</td>\n",
              "      <td>...</td>\n",
              "      <td>...</td>\n",
              "      <td>...</td>\n",
              "      <td>...</td>\n",
              "      <td>...</td>\n",
              "    </tr>\n",
              "    <tr>\n",
              "      <th>266</th>\n",
              "      <td>267</td>\n",
              "      <td>2443.0</td>\n",
              "      <td>3422.0</td>\n",
              "      <td>7852.0</td>\n",
              "      <td>3000.0</td>\n",
              "      <td>6394.0</td>\n",
              "      <td>No fault</td>\n",
              "    </tr>\n",
              "    <tr>\n",
              "      <th>267</th>\n",
              "      <td>268</td>\n",
              "      <td>4395.0</td>\n",
              "      <td>5201.0</td>\n",
              "      <td>6933.0</td>\n",
              "      <td>6788.0</td>\n",
              "      <td>2121.0</td>\n",
              "      <td>No fault</td>\n",
              "    </tr>\n",
              "    <tr>\n",
              "      <th>268</th>\n",
              "      <td>269</td>\n",
              "      <td>7613.0</td>\n",
              "      <td>1120.0</td>\n",
              "      <td>3363.0</td>\n",
              "      <td>4751.0</td>\n",
              "      <td>3393.0</td>\n",
              "      <td>No fault</td>\n",
              "    </tr>\n",
              "    <tr>\n",
              "      <th>269</th>\n",
              "      <td>270</td>\n",
              "      <td>2366.0</td>\n",
              "      <td>1031.0</td>\n",
              "      <td>5909.0</td>\n",
              "      <td>108.0</td>\n",
              "      <td>7025.0</td>\n",
              "      <td>No fault</td>\n",
              "    </tr>\n",
              "    <tr>\n",
              "      <th>270</th>\n",
              "      <td>271</td>\n",
              "      <td>5054.0</td>\n",
              "      <td>4144.0</td>\n",
              "      <td>4174.0</td>\n",
              "      <td>7020.0</td>\n",
              "      <td>6974.0</td>\n",
              "      <td>No fault</td>\n",
              "    </tr>\n",
              "  </tbody>\n",
              "</table>\n",
              "<p>271 rows × 7 columns</p>\n",
              "</div>\n",
              "      <button class=\"colab-df-convert\" onclick=\"convertToInteractive('df-42f4e43b-f624-4b9b-8f19-b5196c80ba5f')\"\n",
              "              title=\"Convert this dataframe to an interactive table.\"\n",
              "              style=\"display:none;\">\n",
              "        \n",
              "  <svg xmlns=\"http://www.w3.org/2000/svg\" height=\"24px\"viewBox=\"0 0 24 24\"\n",
              "       width=\"24px\">\n",
              "    <path d=\"M0 0h24v24H0V0z\" fill=\"none\"/>\n",
              "    <path d=\"M18.56 5.44l.94 2.06.94-2.06 2.06-.94-2.06-.94-.94-2.06-.94 2.06-2.06.94zm-11 1L8.5 8.5l.94-2.06 2.06-.94-2.06-.94L8.5 2.5l-.94 2.06-2.06.94zm10 10l.94 2.06.94-2.06 2.06-.94-2.06-.94-.94-2.06-.94 2.06-2.06.94z\"/><path d=\"M17.41 7.96l-1.37-1.37c-.4-.4-.92-.59-1.43-.59-.52 0-1.04.2-1.43.59L10.3 9.45l-7.72 7.72c-.78.78-.78 2.05 0 2.83L4 21.41c.39.39.9.59 1.41.59.51 0 1.02-.2 1.41-.59l7.78-7.78 2.81-2.81c.8-.78.8-2.07 0-2.86zM5.41 20L4 18.59l7.72-7.72 1.47 1.35L5.41 20z\"/>\n",
              "  </svg>\n",
              "      </button>\n",
              "      \n",
              "  <style>\n",
              "    .colab-df-container {\n",
              "      display:flex;\n",
              "      flex-wrap:wrap;\n",
              "      gap: 12px;\n",
              "    }\n",
              "\n",
              "    .colab-df-convert {\n",
              "      background-color: #E8F0FE;\n",
              "      border: none;\n",
              "      border-radius: 50%;\n",
              "      cursor: pointer;\n",
              "      display: none;\n",
              "      fill: #1967D2;\n",
              "      height: 32px;\n",
              "      padding: 0 0 0 0;\n",
              "      width: 32px;\n",
              "    }\n",
              "\n",
              "    .colab-df-convert:hover {\n",
              "      background-color: #E2EBFA;\n",
              "      box-shadow: 0px 1px 2px rgba(60, 64, 67, 0.3), 0px 1px 3px 1px rgba(60, 64, 67, 0.15);\n",
              "      fill: #174EA6;\n",
              "    }\n",
              "\n",
              "    [theme=dark] .colab-df-convert {\n",
              "      background-color: #3B4455;\n",
              "      fill: #D2E3FC;\n",
              "    }\n",
              "\n",
              "    [theme=dark] .colab-df-convert:hover {\n",
              "      background-color: #434B5C;\n",
              "      box-shadow: 0px 1px 3px 1px rgba(0, 0, 0, 0.15);\n",
              "      filter: drop-shadow(0px 1px 2px rgba(0, 0, 0, 0.3));\n",
              "      fill: #FFFFFF;\n",
              "    }\n",
              "  </style>\n",
              "\n",
              "      <script>\n",
              "        const buttonEl =\n",
              "          document.querySelector('#df-42f4e43b-f624-4b9b-8f19-b5196c80ba5f button.colab-df-convert');\n",
              "        buttonEl.style.display =\n",
              "          google.colab.kernel.accessAllowed ? 'block' : 'none';\n",
              "\n",
              "        async function convertToInteractive(key) {\n",
              "          const element = document.querySelector('#df-42f4e43b-f624-4b9b-8f19-b5196c80ba5f');\n",
              "          const dataTable =\n",
              "            await google.colab.kernel.invokeFunction('convertToInteractive',\n",
              "                                                     [key], {});\n",
              "          if (!dataTable) return;\n",
              "\n",
              "          const docLinkHtml = 'Like what you see? Visit the ' +\n",
              "            '<a target=\"_blank\" href=https://colab.research.google.com/notebooks/data_table.ipynb>data table notebook</a>'\n",
              "            + ' to learn more about interactive tables.';\n",
              "          element.innerHTML = '';\n",
              "          dataTable['output_type'] = 'display_data';\n",
              "          await google.colab.output.renderOutput(dataTable, element);\n",
              "          const docLink = document.createElement('div');\n",
              "          docLink.innerHTML = docLinkHtml;\n",
              "          element.appendChild(docLink);\n",
              "        }\n",
              "      </script>\n",
              "    </div>\n",
              "  </div>\n",
              "  "
            ]
          },
          "metadata": {},
          "execution_count": 11
        }
      ]
    },
    {
      "cell_type": "code",
      "source": [
        "data.head()"
      ],
      "metadata": {
        "colab": {
          "base_uri": "https://localhost:8080/",
          "height": 206
        },
        "id": "A0tpbgc0GYQf",
        "outputId": "4aebc8a7-ca86-4b54-e0a5-098211ef066e"
      },
      "execution_count": 12,
      "outputs": [
        {
          "output_type": "execute_result",
          "data": {
            "text/plain": [
              "   NM       H2      CH4   C2H6  C2H4  C2H2               Type\n",
              "0   1   3930.0   2397.0  157.0   0.0   0.0  Partial discharge\n",
              "1   2  37800.0   1740.0  249.0   8.0   8.0  Partial discharge\n",
              "2   3  92600.0  10200.0    0.0   0.0   0.0  Partial discharge\n",
              "3   4   8266.0   1061.0   22.0   0.0   0.0  Partial discharge\n",
              "4   5   9340.0    995.0   60.0   6.0   7.0  Partial discharge"
            ],
            "text/html": [
              "\n",
              "  <div id=\"df-2fd7af87-ba40-4fcd-9f39-ba1573289d77\">\n",
              "    <div class=\"colab-df-container\">\n",
              "      <div>\n",
              "<style scoped>\n",
              "    .dataframe tbody tr th:only-of-type {\n",
              "        vertical-align: middle;\n",
              "    }\n",
              "\n",
              "    .dataframe tbody tr th {\n",
              "        vertical-align: top;\n",
              "    }\n",
              "\n",
              "    .dataframe thead th {\n",
              "        text-align: right;\n",
              "    }\n",
              "</style>\n",
              "<table border=\"1\" class=\"dataframe\">\n",
              "  <thead>\n",
              "    <tr style=\"text-align: right;\">\n",
              "      <th></th>\n",
              "      <th>NM</th>\n",
              "      <th>H2</th>\n",
              "      <th>CH4</th>\n",
              "      <th>C2H6</th>\n",
              "      <th>C2H4</th>\n",
              "      <th>C2H2</th>\n",
              "      <th>Type</th>\n",
              "    </tr>\n",
              "  </thead>\n",
              "  <tbody>\n",
              "    <tr>\n",
              "      <th>0</th>\n",
              "      <td>1</td>\n",
              "      <td>3930.0</td>\n",
              "      <td>2397.0</td>\n",
              "      <td>157.0</td>\n",
              "      <td>0.0</td>\n",
              "      <td>0.0</td>\n",
              "      <td>Partial discharge</td>\n",
              "    </tr>\n",
              "    <tr>\n",
              "      <th>1</th>\n",
              "      <td>2</td>\n",
              "      <td>37800.0</td>\n",
              "      <td>1740.0</td>\n",
              "      <td>249.0</td>\n",
              "      <td>8.0</td>\n",
              "      <td>8.0</td>\n",
              "      <td>Partial discharge</td>\n",
              "    </tr>\n",
              "    <tr>\n",
              "      <th>2</th>\n",
              "      <td>3</td>\n",
              "      <td>92600.0</td>\n",
              "      <td>10200.0</td>\n",
              "      <td>0.0</td>\n",
              "      <td>0.0</td>\n",
              "      <td>0.0</td>\n",
              "      <td>Partial discharge</td>\n",
              "    </tr>\n",
              "    <tr>\n",
              "      <th>3</th>\n",
              "      <td>4</td>\n",
              "      <td>8266.0</td>\n",
              "      <td>1061.0</td>\n",
              "      <td>22.0</td>\n",
              "      <td>0.0</td>\n",
              "      <td>0.0</td>\n",
              "      <td>Partial discharge</td>\n",
              "    </tr>\n",
              "    <tr>\n",
              "      <th>4</th>\n",
              "      <td>5</td>\n",
              "      <td>9340.0</td>\n",
              "      <td>995.0</td>\n",
              "      <td>60.0</td>\n",
              "      <td>6.0</td>\n",
              "      <td>7.0</td>\n",
              "      <td>Partial discharge</td>\n",
              "    </tr>\n",
              "  </tbody>\n",
              "</table>\n",
              "</div>\n",
              "      <button class=\"colab-df-convert\" onclick=\"convertToInteractive('df-2fd7af87-ba40-4fcd-9f39-ba1573289d77')\"\n",
              "              title=\"Convert this dataframe to an interactive table.\"\n",
              "              style=\"display:none;\">\n",
              "        \n",
              "  <svg xmlns=\"http://www.w3.org/2000/svg\" height=\"24px\"viewBox=\"0 0 24 24\"\n",
              "       width=\"24px\">\n",
              "    <path d=\"M0 0h24v24H0V0z\" fill=\"none\"/>\n",
              "    <path d=\"M18.56 5.44l.94 2.06.94-2.06 2.06-.94-2.06-.94-.94-2.06-.94 2.06-2.06.94zm-11 1L8.5 8.5l.94-2.06 2.06-.94-2.06-.94L8.5 2.5l-.94 2.06-2.06.94zm10 10l.94 2.06.94-2.06 2.06-.94-2.06-.94-.94-2.06-.94 2.06-2.06.94z\"/><path d=\"M17.41 7.96l-1.37-1.37c-.4-.4-.92-.59-1.43-.59-.52 0-1.04.2-1.43.59L10.3 9.45l-7.72 7.72c-.78.78-.78 2.05 0 2.83L4 21.41c.39.39.9.59 1.41.59.51 0 1.02-.2 1.41-.59l7.78-7.78 2.81-2.81c.8-.78.8-2.07 0-2.86zM5.41 20L4 18.59l7.72-7.72 1.47 1.35L5.41 20z\"/>\n",
              "  </svg>\n",
              "      </button>\n",
              "      \n",
              "  <style>\n",
              "    .colab-df-container {\n",
              "      display:flex;\n",
              "      flex-wrap:wrap;\n",
              "      gap: 12px;\n",
              "    }\n",
              "\n",
              "    .colab-df-convert {\n",
              "      background-color: #E8F0FE;\n",
              "      border: none;\n",
              "      border-radius: 50%;\n",
              "      cursor: pointer;\n",
              "      display: none;\n",
              "      fill: #1967D2;\n",
              "      height: 32px;\n",
              "      padding: 0 0 0 0;\n",
              "      width: 32px;\n",
              "    }\n",
              "\n",
              "    .colab-df-convert:hover {\n",
              "      background-color: #E2EBFA;\n",
              "      box-shadow: 0px 1px 2px rgba(60, 64, 67, 0.3), 0px 1px 3px 1px rgba(60, 64, 67, 0.15);\n",
              "      fill: #174EA6;\n",
              "    }\n",
              "\n",
              "    [theme=dark] .colab-df-convert {\n",
              "      background-color: #3B4455;\n",
              "      fill: #D2E3FC;\n",
              "    }\n",
              "\n",
              "    [theme=dark] .colab-df-convert:hover {\n",
              "      background-color: #434B5C;\n",
              "      box-shadow: 0px 1px 3px 1px rgba(0, 0, 0, 0.15);\n",
              "      filter: drop-shadow(0px 1px 2px rgba(0, 0, 0, 0.3));\n",
              "      fill: #FFFFFF;\n",
              "    }\n",
              "  </style>\n",
              "\n",
              "      <script>\n",
              "        const buttonEl =\n",
              "          document.querySelector('#df-2fd7af87-ba40-4fcd-9f39-ba1573289d77 button.colab-df-convert');\n",
              "        buttonEl.style.display =\n",
              "          google.colab.kernel.accessAllowed ? 'block' : 'none';\n",
              "\n",
              "        async function convertToInteractive(key) {\n",
              "          const element = document.querySelector('#df-2fd7af87-ba40-4fcd-9f39-ba1573289d77');\n",
              "          const dataTable =\n",
              "            await google.colab.kernel.invokeFunction('convertToInteractive',\n",
              "                                                     [key], {});\n",
              "          if (!dataTable) return;\n",
              "\n",
              "          const docLinkHtml = 'Like what you see? Visit the ' +\n",
              "            '<a target=\"_blank\" href=https://colab.research.google.com/notebooks/data_table.ipynb>data table notebook</a>'\n",
              "            + ' to learn more about interactive tables.';\n",
              "          element.innerHTML = '';\n",
              "          dataTable['output_type'] = 'display_data';\n",
              "          await google.colab.output.renderOutput(dataTable, element);\n",
              "          const docLink = document.createElement('div');\n",
              "          docLink.innerHTML = docLinkHtml;\n",
              "          element.appendChild(docLink);\n",
              "        }\n",
              "      </script>\n",
              "    </div>\n",
              "  </div>\n",
              "  "
            ]
          },
          "metadata": {},
          "execution_count": 12
        }
      ]
    },
    {
      "cell_type": "code",
      "source": [
        "data.tail()"
      ],
      "metadata": {
        "colab": {
          "base_uri": "https://localhost:8080/",
          "height": 206
        },
        "id": "MNO16exdGfMk",
        "outputId": "988dff6e-5b20-40ce-98a3-dd6cd24bbbb9"
      },
      "execution_count": 13,
      "outputs": [
        {
          "output_type": "execute_result",
          "data": {
            "text/plain": [
              "      NM      H2     CH4    C2H6    C2H4    C2H2      Type\n",
              "266  267  2443.0  3422.0  7852.0  3000.0  6394.0  No fault\n",
              "267  268  4395.0  5201.0  6933.0  6788.0  2121.0  No fault\n",
              "268  269  7613.0  1120.0  3363.0  4751.0  3393.0  No fault\n",
              "269  270  2366.0  1031.0  5909.0   108.0  7025.0  No fault\n",
              "270  271  5054.0  4144.0  4174.0  7020.0  6974.0  No fault"
            ],
            "text/html": [
              "\n",
              "  <div id=\"df-de2cf7aa-4bd8-4995-8df6-b85811e4676f\">\n",
              "    <div class=\"colab-df-container\">\n",
              "      <div>\n",
              "<style scoped>\n",
              "    .dataframe tbody tr th:only-of-type {\n",
              "        vertical-align: middle;\n",
              "    }\n",
              "\n",
              "    .dataframe tbody tr th {\n",
              "        vertical-align: top;\n",
              "    }\n",
              "\n",
              "    .dataframe thead th {\n",
              "        text-align: right;\n",
              "    }\n",
              "</style>\n",
              "<table border=\"1\" class=\"dataframe\">\n",
              "  <thead>\n",
              "    <tr style=\"text-align: right;\">\n",
              "      <th></th>\n",
              "      <th>NM</th>\n",
              "      <th>H2</th>\n",
              "      <th>CH4</th>\n",
              "      <th>C2H6</th>\n",
              "      <th>C2H4</th>\n",
              "      <th>C2H2</th>\n",
              "      <th>Type</th>\n",
              "    </tr>\n",
              "  </thead>\n",
              "  <tbody>\n",
              "    <tr>\n",
              "      <th>266</th>\n",
              "      <td>267</td>\n",
              "      <td>2443.0</td>\n",
              "      <td>3422.0</td>\n",
              "      <td>7852.0</td>\n",
              "      <td>3000.0</td>\n",
              "      <td>6394.0</td>\n",
              "      <td>No fault</td>\n",
              "    </tr>\n",
              "    <tr>\n",
              "      <th>267</th>\n",
              "      <td>268</td>\n",
              "      <td>4395.0</td>\n",
              "      <td>5201.0</td>\n",
              "      <td>6933.0</td>\n",
              "      <td>6788.0</td>\n",
              "      <td>2121.0</td>\n",
              "      <td>No fault</td>\n",
              "    </tr>\n",
              "    <tr>\n",
              "      <th>268</th>\n",
              "      <td>269</td>\n",
              "      <td>7613.0</td>\n",
              "      <td>1120.0</td>\n",
              "      <td>3363.0</td>\n",
              "      <td>4751.0</td>\n",
              "      <td>3393.0</td>\n",
              "      <td>No fault</td>\n",
              "    </tr>\n",
              "    <tr>\n",
              "      <th>269</th>\n",
              "      <td>270</td>\n",
              "      <td>2366.0</td>\n",
              "      <td>1031.0</td>\n",
              "      <td>5909.0</td>\n",
              "      <td>108.0</td>\n",
              "      <td>7025.0</td>\n",
              "      <td>No fault</td>\n",
              "    </tr>\n",
              "    <tr>\n",
              "      <th>270</th>\n",
              "      <td>271</td>\n",
              "      <td>5054.0</td>\n",
              "      <td>4144.0</td>\n",
              "      <td>4174.0</td>\n",
              "      <td>7020.0</td>\n",
              "      <td>6974.0</td>\n",
              "      <td>No fault</td>\n",
              "    </tr>\n",
              "  </tbody>\n",
              "</table>\n",
              "</div>\n",
              "      <button class=\"colab-df-convert\" onclick=\"convertToInteractive('df-de2cf7aa-4bd8-4995-8df6-b85811e4676f')\"\n",
              "              title=\"Convert this dataframe to an interactive table.\"\n",
              "              style=\"display:none;\">\n",
              "        \n",
              "  <svg xmlns=\"http://www.w3.org/2000/svg\" height=\"24px\"viewBox=\"0 0 24 24\"\n",
              "       width=\"24px\">\n",
              "    <path d=\"M0 0h24v24H0V0z\" fill=\"none\"/>\n",
              "    <path d=\"M18.56 5.44l.94 2.06.94-2.06 2.06-.94-2.06-.94-.94-2.06-.94 2.06-2.06.94zm-11 1L8.5 8.5l.94-2.06 2.06-.94-2.06-.94L8.5 2.5l-.94 2.06-2.06.94zm10 10l.94 2.06.94-2.06 2.06-.94-2.06-.94-.94-2.06-.94 2.06-2.06.94z\"/><path d=\"M17.41 7.96l-1.37-1.37c-.4-.4-.92-.59-1.43-.59-.52 0-1.04.2-1.43.59L10.3 9.45l-7.72 7.72c-.78.78-.78 2.05 0 2.83L4 21.41c.39.39.9.59 1.41.59.51 0 1.02-.2 1.41-.59l7.78-7.78 2.81-2.81c.8-.78.8-2.07 0-2.86zM5.41 20L4 18.59l7.72-7.72 1.47 1.35L5.41 20z\"/>\n",
              "  </svg>\n",
              "      </button>\n",
              "      \n",
              "  <style>\n",
              "    .colab-df-container {\n",
              "      display:flex;\n",
              "      flex-wrap:wrap;\n",
              "      gap: 12px;\n",
              "    }\n",
              "\n",
              "    .colab-df-convert {\n",
              "      background-color: #E8F0FE;\n",
              "      border: none;\n",
              "      border-radius: 50%;\n",
              "      cursor: pointer;\n",
              "      display: none;\n",
              "      fill: #1967D2;\n",
              "      height: 32px;\n",
              "      padding: 0 0 0 0;\n",
              "      width: 32px;\n",
              "    }\n",
              "\n",
              "    .colab-df-convert:hover {\n",
              "      background-color: #E2EBFA;\n",
              "      box-shadow: 0px 1px 2px rgba(60, 64, 67, 0.3), 0px 1px 3px 1px rgba(60, 64, 67, 0.15);\n",
              "      fill: #174EA6;\n",
              "    }\n",
              "\n",
              "    [theme=dark] .colab-df-convert {\n",
              "      background-color: #3B4455;\n",
              "      fill: #D2E3FC;\n",
              "    }\n",
              "\n",
              "    [theme=dark] .colab-df-convert:hover {\n",
              "      background-color: #434B5C;\n",
              "      box-shadow: 0px 1px 3px 1px rgba(0, 0, 0, 0.15);\n",
              "      filter: drop-shadow(0px 1px 2px rgba(0, 0, 0, 0.3));\n",
              "      fill: #FFFFFF;\n",
              "    }\n",
              "  </style>\n",
              "\n",
              "      <script>\n",
              "        const buttonEl =\n",
              "          document.querySelector('#df-de2cf7aa-4bd8-4995-8df6-b85811e4676f button.colab-df-convert');\n",
              "        buttonEl.style.display =\n",
              "          google.colab.kernel.accessAllowed ? 'block' : 'none';\n",
              "\n",
              "        async function convertToInteractive(key) {\n",
              "          const element = document.querySelector('#df-de2cf7aa-4bd8-4995-8df6-b85811e4676f');\n",
              "          const dataTable =\n",
              "            await google.colab.kernel.invokeFunction('convertToInteractive',\n",
              "                                                     [key], {});\n",
              "          if (!dataTable) return;\n",
              "\n",
              "          const docLinkHtml = 'Like what you see? Visit the ' +\n",
              "            '<a target=\"_blank\" href=https://colab.research.google.com/notebooks/data_table.ipynb>data table notebook</a>'\n",
              "            + ' to learn more about interactive tables.';\n",
              "          element.innerHTML = '';\n",
              "          dataTable['output_type'] = 'display_data';\n",
              "          await google.colab.output.renderOutput(dataTable, element);\n",
              "          const docLink = document.createElement('div');\n",
              "          docLink.innerHTML = docLinkHtml;\n",
              "          element.appendChild(docLink);\n",
              "        }\n",
              "      </script>\n",
              "    </div>\n",
              "  </div>\n",
              "  "
            ]
          },
          "metadata": {},
          "execution_count": 13
        }
      ]
    },
    {
      "cell_type": "code",
      "source": [
        "data.info()"
      ],
      "metadata": {
        "colab": {
          "base_uri": "https://localhost:8080/"
        },
        "id": "BLiEU-j7Gduv",
        "outputId": "59a10892-8630-46a4-fa00-e7146d30082f"
      },
      "execution_count": 14,
      "outputs": [
        {
          "output_type": "stream",
          "name": "stdout",
          "text": [
            "<class 'pandas.core.frame.DataFrame'>\n",
            "RangeIndex: 271 entries, 0 to 270\n",
            "Data columns (total 7 columns):\n",
            " #   Column  Non-Null Count  Dtype  \n",
            "---  ------  --------------  -----  \n",
            " 0   NM      271 non-null    int64  \n",
            " 1   H2      271 non-null    float64\n",
            " 2   CH4     271 non-null    float64\n",
            " 3   C2H6    271 non-null    float64\n",
            " 4   C2H4    271 non-null    float64\n",
            " 5   C2H2    271 non-null    float64\n",
            " 6   Type    271 non-null    object \n",
            "dtypes: float64(5), int64(1), object(1)\n",
            "memory usage: 14.9+ KB\n"
          ]
        }
      ]
    },
    {
      "cell_type": "code",
      "source": [
        "data.describe()"
      ],
      "metadata": {
        "colab": {
          "base_uri": "https://localhost:8080/",
          "height": 300
        },
        "id": "yvij4jheGmAf",
        "outputId": "9b660705-5931-418f-9cf3-16f868b434e3"
      },
      "execution_count": 15,
      "outputs": [
        {
          "output_type": "execute_result",
          "data": {
            "text/plain": [
              "               NM             H2            CH4           C2H6           C2H4  \\\n",
              "count  271.000000     271.000000     271.000000     271.000000     271.000000   \n",
              "mean   136.000000   12596.872137    8837.367860    8322.011037   25855.278192   \n",
              "std     78.375166   58990.313685   44290.029786   45204.575453   93324.626287   \n",
              "min      1.000000       0.000000       0.000000       0.000000       0.000000   \n",
              "25%     68.500000      87.585000      59.950000      10.000000      15.050000   \n",
              "50%    136.000000     676.740000     450.000000      68.000000     233.000000   \n",
              "75%    203.500000    4105.000000    1593.000000     510.000000    2030.000000   \n",
              "max    271.000000  487297.000000  449556.000000  404053.000000  478904.000000   \n",
              "\n",
              "                C2H2  \n",
              "count     271.000000  \n",
              "mean    28464.202989  \n",
              "std    118859.936760  \n",
              "min         0.000000  \n",
              "25%         3.110000  \n",
              "50%        40.000000  \n",
              "75%       890.850000  \n",
              "max    683643.000000  "
            ],
            "text/html": [
              "\n",
              "  <div id=\"df-e55b01ab-4c85-460b-bf4f-d64feb55ec35\">\n",
              "    <div class=\"colab-df-container\">\n",
              "      <div>\n",
              "<style scoped>\n",
              "    .dataframe tbody tr th:only-of-type {\n",
              "        vertical-align: middle;\n",
              "    }\n",
              "\n",
              "    .dataframe tbody tr th {\n",
              "        vertical-align: top;\n",
              "    }\n",
              "\n",
              "    .dataframe thead th {\n",
              "        text-align: right;\n",
              "    }\n",
              "</style>\n",
              "<table border=\"1\" class=\"dataframe\">\n",
              "  <thead>\n",
              "    <tr style=\"text-align: right;\">\n",
              "      <th></th>\n",
              "      <th>NM</th>\n",
              "      <th>H2</th>\n",
              "      <th>CH4</th>\n",
              "      <th>C2H6</th>\n",
              "      <th>C2H4</th>\n",
              "      <th>C2H2</th>\n",
              "    </tr>\n",
              "  </thead>\n",
              "  <tbody>\n",
              "    <tr>\n",
              "      <th>count</th>\n",
              "      <td>271.000000</td>\n",
              "      <td>271.000000</td>\n",
              "      <td>271.000000</td>\n",
              "      <td>271.000000</td>\n",
              "      <td>271.000000</td>\n",
              "      <td>271.000000</td>\n",
              "    </tr>\n",
              "    <tr>\n",
              "      <th>mean</th>\n",
              "      <td>136.000000</td>\n",
              "      <td>12596.872137</td>\n",
              "      <td>8837.367860</td>\n",
              "      <td>8322.011037</td>\n",
              "      <td>25855.278192</td>\n",
              "      <td>28464.202989</td>\n",
              "    </tr>\n",
              "    <tr>\n",
              "      <th>std</th>\n",
              "      <td>78.375166</td>\n",
              "      <td>58990.313685</td>\n",
              "      <td>44290.029786</td>\n",
              "      <td>45204.575453</td>\n",
              "      <td>93324.626287</td>\n",
              "      <td>118859.936760</td>\n",
              "    </tr>\n",
              "    <tr>\n",
              "      <th>min</th>\n",
              "      <td>1.000000</td>\n",
              "      <td>0.000000</td>\n",
              "      <td>0.000000</td>\n",
              "      <td>0.000000</td>\n",
              "      <td>0.000000</td>\n",
              "      <td>0.000000</td>\n",
              "    </tr>\n",
              "    <tr>\n",
              "      <th>25%</th>\n",
              "      <td>68.500000</td>\n",
              "      <td>87.585000</td>\n",
              "      <td>59.950000</td>\n",
              "      <td>10.000000</td>\n",
              "      <td>15.050000</td>\n",
              "      <td>3.110000</td>\n",
              "    </tr>\n",
              "    <tr>\n",
              "      <th>50%</th>\n",
              "      <td>136.000000</td>\n",
              "      <td>676.740000</td>\n",
              "      <td>450.000000</td>\n",
              "      <td>68.000000</td>\n",
              "      <td>233.000000</td>\n",
              "      <td>40.000000</td>\n",
              "    </tr>\n",
              "    <tr>\n",
              "      <th>75%</th>\n",
              "      <td>203.500000</td>\n",
              "      <td>4105.000000</td>\n",
              "      <td>1593.000000</td>\n",
              "      <td>510.000000</td>\n",
              "      <td>2030.000000</td>\n",
              "      <td>890.850000</td>\n",
              "    </tr>\n",
              "    <tr>\n",
              "      <th>max</th>\n",
              "      <td>271.000000</td>\n",
              "      <td>487297.000000</td>\n",
              "      <td>449556.000000</td>\n",
              "      <td>404053.000000</td>\n",
              "      <td>478904.000000</td>\n",
              "      <td>683643.000000</td>\n",
              "    </tr>\n",
              "  </tbody>\n",
              "</table>\n",
              "</div>\n",
              "      <button class=\"colab-df-convert\" onclick=\"convertToInteractive('df-e55b01ab-4c85-460b-bf4f-d64feb55ec35')\"\n",
              "              title=\"Convert this dataframe to an interactive table.\"\n",
              "              style=\"display:none;\">\n",
              "        \n",
              "  <svg xmlns=\"http://www.w3.org/2000/svg\" height=\"24px\"viewBox=\"0 0 24 24\"\n",
              "       width=\"24px\">\n",
              "    <path d=\"M0 0h24v24H0V0z\" fill=\"none\"/>\n",
              "    <path d=\"M18.56 5.44l.94 2.06.94-2.06 2.06-.94-2.06-.94-.94-2.06-.94 2.06-2.06.94zm-11 1L8.5 8.5l.94-2.06 2.06-.94-2.06-.94L8.5 2.5l-.94 2.06-2.06.94zm10 10l.94 2.06.94-2.06 2.06-.94-2.06-.94-.94-2.06-.94 2.06-2.06.94z\"/><path d=\"M17.41 7.96l-1.37-1.37c-.4-.4-.92-.59-1.43-.59-.52 0-1.04.2-1.43.59L10.3 9.45l-7.72 7.72c-.78.78-.78 2.05 0 2.83L4 21.41c.39.39.9.59 1.41.59.51 0 1.02-.2 1.41-.59l7.78-7.78 2.81-2.81c.8-.78.8-2.07 0-2.86zM5.41 20L4 18.59l7.72-7.72 1.47 1.35L5.41 20z\"/>\n",
              "  </svg>\n",
              "      </button>\n",
              "      \n",
              "  <style>\n",
              "    .colab-df-container {\n",
              "      display:flex;\n",
              "      flex-wrap:wrap;\n",
              "      gap: 12px;\n",
              "    }\n",
              "\n",
              "    .colab-df-convert {\n",
              "      background-color: #E8F0FE;\n",
              "      border: none;\n",
              "      border-radius: 50%;\n",
              "      cursor: pointer;\n",
              "      display: none;\n",
              "      fill: #1967D2;\n",
              "      height: 32px;\n",
              "      padding: 0 0 0 0;\n",
              "      width: 32px;\n",
              "    }\n",
              "\n",
              "    .colab-df-convert:hover {\n",
              "      background-color: #E2EBFA;\n",
              "      box-shadow: 0px 1px 2px rgba(60, 64, 67, 0.3), 0px 1px 3px 1px rgba(60, 64, 67, 0.15);\n",
              "      fill: #174EA6;\n",
              "    }\n",
              "\n",
              "    [theme=dark] .colab-df-convert {\n",
              "      background-color: #3B4455;\n",
              "      fill: #D2E3FC;\n",
              "    }\n",
              "\n",
              "    [theme=dark] .colab-df-convert:hover {\n",
              "      background-color: #434B5C;\n",
              "      box-shadow: 0px 1px 3px 1px rgba(0, 0, 0, 0.15);\n",
              "      filter: drop-shadow(0px 1px 2px rgba(0, 0, 0, 0.3));\n",
              "      fill: #FFFFFF;\n",
              "    }\n",
              "  </style>\n",
              "\n",
              "      <script>\n",
              "        const buttonEl =\n",
              "          document.querySelector('#df-e55b01ab-4c85-460b-bf4f-d64feb55ec35 button.colab-df-convert');\n",
              "        buttonEl.style.display =\n",
              "          google.colab.kernel.accessAllowed ? 'block' : 'none';\n",
              "\n",
              "        async function convertToInteractive(key) {\n",
              "          const element = document.querySelector('#df-e55b01ab-4c85-460b-bf4f-d64feb55ec35');\n",
              "          const dataTable =\n",
              "            await google.colab.kernel.invokeFunction('convertToInteractive',\n",
              "                                                     [key], {});\n",
              "          if (!dataTable) return;\n",
              "\n",
              "          const docLinkHtml = 'Like what you see? Visit the ' +\n",
              "            '<a target=\"_blank\" href=https://colab.research.google.com/notebooks/data_table.ipynb>data table notebook</a>'\n",
              "            + ' to learn more about interactive tables.';\n",
              "          element.innerHTML = '';\n",
              "          dataTable['output_type'] = 'display_data';\n",
              "          await google.colab.output.renderOutput(dataTable, element);\n",
              "          const docLink = document.createElement('div');\n",
              "          docLink.innerHTML = docLinkHtml;\n",
              "          element.appendChild(docLink);\n",
              "        }\n",
              "      </script>\n",
              "    </div>\n",
              "  </div>\n",
              "  "
            ]
          },
          "metadata": {},
          "execution_count": 15
        }
      ]
    },
    {
      "cell_type": "code",
      "source": [
        "data.isnull()"
      ],
      "metadata": {
        "colab": {
          "base_uri": "https://localhost:8080/",
          "height": 424
        },
        "id": "j-GnXGXkGqHD",
        "outputId": "aa5df4b7-a8e7-4a0d-fb78-d04fcc066b0f"
      },
      "execution_count": 16,
      "outputs": [
        {
          "output_type": "execute_result",
          "data": {
            "text/plain": [
              "        NM     H2    CH4   C2H6   C2H4   C2H2   Type\n",
              "0    False  False  False  False  False  False  False\n",
              "1    False  False  False  False  False  False  False\n",
              "2    False  False  False  False  False  False  False\n",
              "3    False  False  False  False  False  False  False\n",
              "4    False  False  False  False  False  False  False\n",
              "..     ...    ...    ...    ...    ...    ...    ...\n",
              "266  False  False  False  False  False  False  False\n",
              "267  False  False  False  False  False  False  False\n",
              "268  False  False  False  False  False  False  False\n",
              "269  False  False  False  False  False  False  False\n",
              "270  False  False  False  False  False  False  False\n",
              "\n",
              "[271 rows x 7 columns]"
            ],
            "text/html": [
              "\n",
              "  <div id=\"df-667d5b23-0d95-46c6-9f01-7119014ab842\">\n",
              "    <div class=\"colab-df-container\">\n",
              "      <div>\n",
              "<style scoped>\n",
              "    .dataframe tbody tr th:only-of-type {\n",
              "        vertical-align: middle;\n",
              "    }\n",
              "\n",
              "    .dataframe tbody tr th {\n",
              "        vertical-align: top;\n",
              "    }\n",
              "\n",
              "    .dataframe thead th {\n",
              "        text-align: right;\n",
              "    }\n",
              "</style>\n",
              "<table border=\"1\" class=\"dataframe\">\n",
              "  <thead>\n",
              "    <tr style=\"text-align: right;\">\n",
              "      <th></th>\n",
              "      <th>NM</th>\n",
              "      <th>H2</th>\n",
              "      <th>CH4</th>\n",
              "      <th>C2H6</th>\n",
              "      <th>C2H4</th>\n",
              "      <th>C2H2</th>\n",
              "      <th>Type</th>\n",
              "    </tr>\n",
              "  </thead>\n",
              "  <tbody>\n",
              "    <tr>\n",
              "      <th>0</th>\n",
              "      <td>False</td>\n",
              "      <td>False</td>\n",
              "      <td>False</td>\n",
              "      <td>False</td>\n",
              "      <td>False</td>\n",
              "      <td>False</td>\n",
              "      <td>False</td>\n",
              "    </tr>\n",
              "    <tr>\n",
              "      <th>1</th>\n",
              "      <td>False</td>\n",
              "      <td>False</td>\n",
              "      <td>False</td>\n",
              "      <td>False</td>\n",
              "      <td>False</td>\n",
              "      <td>False</td>\n",
              "      <td>False</td>\n",
              "    </tr>\n",
              "    <tr>\n",
              "      <th>2</th>\n",
              "      <td>False</td>\n",
              "      <td>False</td>\n",
              "      <td>False</td>\n",
              "      <td>False</td>\n",
              "      <td>False</td>\n",
              "      <td>False</td>\n",
              "      <td>False</td>\n",
              "    </tr>\n",
              "    <tr>\n",
              "      <th>3</th>\n",
              "      <td>False</td>\n",
              "      <td>False</td>\n",
              "      <td>False</td>\n",
              "      <td>False</td>\n",
              "      <td>False</td>\n",
              "      <td>False</td>\n",
              "      <td>False</td>\n",
              "    </tr>\n",
              "    <tr>\n",
              "      <th>4</th>\n",
              "      <td>False</td>\n",
              "      <td>False</td>\n",
              "      <td>False</td>\n",
              "      <td>False</td>\n",
              "      <td>False</td>\n",
              "      <td>False</td>\n",
              "      <td>False</td>\n",
              "    </tr>\n",
              "    <tr>\n",
              "      <th>...</th>\n",
              "      <td>...</td>\n",
              "      <td>...</td>\n",
              "      <td>...</td>\n",
              "      <td>...</td>\n",
              "      <td>...</td>\n",
              "      <td>...</td>\n",
              "      <td>...</td>\n",
              "    </tr>\n",
              "    <tr>\n",
              "      <th>266</th>\n",
              "      <td>False</td>\n",
              "      <td>False</td>\n",
              "      <td>False</td>\n",
              "      <td>False</td>\n",
              "      <td>False</td>\n",
              "      <td>False</td>\n",
              "      <td>False</td>\n",
              "    </tr>\n",
              "    <tr>\n",
              "      <th>267</th>\n",
              "      <td>False</td>\n",
              "      <td>False</td>\n",
              "      <td>False</td>\n",
              "      <td>False</td>\n",
              "      <td>False</td>\n",
              "      <td>False</td>\n",
              "      <td>False</td>\n",
              "    </tr>\n",
              "    <tr>\n",
              "      <th>268</th>\n",
              "      <td>False</td>\n",
              "      <td>False</td>\n",
              "      <td>False</td>\n",
              "      <td>False</td>\n",
              "      <td>False</td>\n",
              "      <td>False</td>\n",
              "      <td>False</td>\n",
              "    </tr>\n",
              "    <tr>\n",
              "      <th>269</th>\n",
              "      <td>False</td>\n",
              "      <td>False</td>\n",
              "      <td>False</td>\n",
              "      <td>False</td>\n",
              "      <td>False</td>\n",
              "      <td>False</td>\n",
              "      <td>False</td>\n",
              "    </tr>\n",
              "    <tr>\n",
              "      <th>270</th>\n",
              "      <td>False</td>\n",
              "      <td>False</td>\n",
              "      <td>False</td>\n",
              "      <td>False</td>\n",
              "      <td>False</td>\n",
              "      <td>False</td>\n",
              "      <td>False</td>\n",
              "    </tr>\n",
              "  </tbody>\n",
              "</table>\n",
              "<p>271 rows × 7 columns</p>\n",
              "</div>\n",
              "      <button class=\"colab-df-convert\" onclick=\"convertToInteractive('df-667d5b23-0d95-46c6-9f01-7119014ab842')\"\n",
              "              title=\"Convert this dataframe to an interactive table.\"\n",
              "              style=\"display:none;\">\n",
              "        \n",
              "  <svg xmlns=\"http://www.w3.org/2000/svg\" height=\"24px\"viewBox=\"0 0 24 24\"\n",
              "       width=\"24px\">\n",
              "    <path d=\"M0 0h24v24H0V0z\" fill=\"none\"/>\n",
              "    <path d=\"M18.56 5.44l.94 2.06.94-2.06 2.06-.94-2.06-.94-.94-2.06-.94 2.06-2.06.94zm-11 1L8.5 8.5l.94-2.06 2.06-.94-2.06-.94L8.5 2.5l-.94 2.06-2.06.94zm10 10l.94 2.06.94-2.06 2.06-.94-2.06-.94-.94-2.06-.94 2.06-2.06.94z\"/><path d=\"M17.41 7.96l-1.37-1.37c-.4-.4-.92-.59-1.43-.59-.52 0-1.04.2-1.43.59L10.3 9.45l-7.72 7.72c-.78.78-.78 2.05 0 2.83L4 21.41c.39.39.9.59 1.41.59.51 0 1.02-.2 1.41-.59l7.78-7.78 2.81-2.81c.8-.78.8-2.07 0-2.86zM5.41 20L4 18.59l7.72-7.72 1.47 1.35L5.41 20z\"/>\n",
              "  </svg>\n",
              "      </button>\n",
              "      \n",
              "  <style>\n",
              "    .colab-df-container {\n",
              "      display:flex;\n",
              "      flex-wrap:wrap;\n",
              "      gap: 12px;\n",
              "    }\n",
              "\n",
              "    .colab-df-convert {\n",
              "      background-color: #E8F0FE;\n",
              "      border: none;\n",
              "      border-radius: 50%;\n",
              "      cursor: pointer;\n",
              "      display: none;\n",
              "      fill: #1967D2;\n",
              "      height: 32px;\n",
              "      padding: 0 0 0 0;\n",
              "      width: 32px;\n",
              "    }\n",
              "\n",
              "    .colab-df-convert:hover {\n",
              "      background-color: #E2EBFA;\n",
              "      box-shadow: 0px 1px 2px rgba(60, 64, 67, 0.3), 0px 1px 3px 1px rgba(60, 64, 67, 0.15);\n",
              "      fill: #174EA6;\n",
              "    }\n",
              "\n",
              "    [theme=dark] .colab-df-convert {\n",
              "      background-color: #3B4455;\n",
              "      fill: #D2E3FC;\n",
              "    }\n",
              "\n",
              "    [theme=dark] .colab-df-convert:hover {\n",
              "      background-color: #434B5C;\n",
              "      box-shadow: 0px 1px 3px 1px rgba(0, 0, 0, 0.15);\n",
              "      filter: drop-shadow(0px 1px 2px rgba(0, 0, 0, 0.3));\n",
              "      fill: #FFFFFF;\n",
              "    }\n",
              "  </style>\n",
              "\n",
              "      <script>\n",
              "        const buttonEl =\n",
              "          document.querySelector('#df-667d5b23-0d95-46c6-9f01-7119014ab842 button.colab-df-convert');\n",
              "        buttonEl.style.display =\n",
              "          google.colab.kernel.accessAllowed ? 'block' : 'none';\n",
              "\n",
              "        async function convertToInteractive(key) {\n",
              "          const element = document.querySelector('#df-667d5b23-0d95-46c6-9f01-7119014ab842');\n",
              "          const dataTable =\n",
              "            await google.colab.kernel.invokeFunction('convertToInteractive',\n",
              "                                                     [key], {});\n",
              "          if (!dataTable) return;\n",
              "\n",
              "          const docLinkHtml = 'Like what you see? Visit the ' +\n",
              "            '<a target=\"_blank\" href=https://colab.research.google.com/notebooks/data_table.ipynb>data table notebook</a>'\n",
              "            + ' to learn more about interactive tables.';\n",
              "          element.innerHTML = '';\n",
              "          dataTable['output_type'] = 'display_data';\n",
              "          await google.colab.output.renderOutput(dataTable, element);\n",
              "          const docLink = document.createElement('div');\n",
              "          docLink.innerHTML = docLinkHtml;\n",
              "          element.appendChild(docLink);\n",
              "        }\n",
              "      </script>\n",
              "    </div>\n",
              "  </div>\n",
              "  "
            ]
          },
          "metadata": {},
          "execution_count": 16
        }
      ]
    },
    {
      "cell_type": "code",
      "source": [
        "plt.figure(figsize=(15,7))\n",
        "plt.style.use(\"fivethirtyeight\")\n",
        "sns.kdeplot(data=data, x=\"H2\")\n"
      ],
      "metadata": {
        "colab": {
          "base_uri": "https://localhost:8080/",
          "height": 482
        },
        "id": "c341duc9HFwN",
        "outputId": "4c47eb33-4183-4112-bf0c-f2e0b93a45c3"
      },
      "execution_count": 17,
      "outputs": [
        {
          "output_type": "execute_result",
          "data": {
            "text/plain": [
              "<matplotlib.axes._subplots.AxesSubplot at 0x7fe710c0bdd0>"
            ]
          },
          "metadata": {},
          "execution_count": 17
        },
        {
          "output_type": "display_data",
          "data": {
            "text/plain": [
              "<Figure size 1080x504 with 1 Axes>"
            ],
            "image/png": "[encoded data removed]"
          },
          "metadata": {
            "needs_background": "light"
          }
        }
      ]
    },
    {
      "cell_type": "code",
      "source": [
        "plt.figure(figsize=(15,7))\n",
        "plt.style.use(\"fivethirtyeight\")\n",
        "sns.kdeplot(data=data, x=\"CH4\")\n",
        "\n",
        "\n"
      ],
      "metadata": {
        "colab": {
          "base_uri": "https://localhost:8080/",
          "height": 510
        },
        "id": "AwhbBmF9H7yK",
        "outputId": "126383f8-75ad-4501-d90c-49de5b681cb0"
      },
      "execution_count": 18,
      "outputs": [
        {
          "output_type": "execute_result",
          "data": {
            "text/plain": [
              "<matplotlib.axes._subplots.AxesSubplot at 0x7fe70ff84d10>"
            ]
          },
          "metadata": {},
          "execution_count": 18
        },
        {
          "output_type": "display_data",
          "data": {
            "text/plain": [
              "<Figure size 1080x504 with 1 Axes>"
            ],
            "image/png": "[encoded data removed]"
          },
          "metadata": {}
        }
      ]
    },
    {
      "cell_type": "code",
      "source": [
        "plt.figure(figsize=(15,7))\n",
        "plt.style.use(\"fivethirtyeight\")\n",
        "sns.kdeplot(data=data, x=\"C2H6\")\n",
        "\n"
      ],
      "metadata": {
        "colab": {
          "base_uri": "https://localhost:8080/",
          "height": 510
        },
        "id": "Icr1_Tn2IWGQ",
        "outputId": "56247bf9-af22-463d-a5fe-d67195ee91d5"
      },
      "execution_count": 19,
      "outputs": [
        {
          "output_type": "execute_result",
          "data": {
            "text/plain": [
              "<matplotlib.axes._subplots.AxesSubplot at 0x7fe70ff84610>"
            ]
          },
          "metadata": {},
          "execution_count": 19
        },
        {
          "output_type": "display_data",
          "data": {
            "text/plain": [
              "<Figure size 1080x504 with 1 Axes>"
            ],
            "image/png": "[encoded data removed]"
          },
          "metadata": {}
        }
      ]
    },
    {
      "cell_type": "code",
      "source": [
        "plt.figure(figsize=(15,7))\n",
        "plt.style.use(\"fivethirtyeight\")\n",
        "sns.kdeplot(data=data, x=\"C2H4\")\n"
      ],
      "metadata": {
        "colab": {
          "base_uri": "https://localhost:8080/",
          "height": 510
        },
        "id": "dKc7ovQSIk8E",
        "outputId": "1763af2b-e9d7-4284-bc3e-eed0eb79c490"
      },
      "execution_count": 20,
      "outputs": [
        {
          "output_type": "execute_result",
          "data": {
            "text/plain": [
              "<matplotlib.axes._subplots.AxesSubplot at 0x7fe70d967fd0>"
            ]
          },
          "metadata": {},
          "execution_count": 20
        },
        {
          "output_type": "display_data",
          "data": {
            "text/plain": [
              "<Figure size 1080x504 with 1 Axes>"
            ],
            "image/png": "[encoded data removed]"
          },
          "metadata": {}
        }
      ]
    },
    {
      "cell_type": "code",
      "source": [
        "plt.figure(figsize=(15,7))\n",
        "plt.style.use(\"fivethirtyeight\")\n",
        "sns.kdeplot(data=data, x=\"C2H2\")"
      ],
      "metadata": {
        "colab": {
          "base_uri": "https://localhost:8080/",
          "height": 510
        },
        "id": "PFrErjtvIsZ4",
        "outputId": "cc338afd-2e5f-4891-aa43-94f719aee61b"
      },
      "execution_count": 21,
      "outputs": [
        {
          "output_type": "execute_result",
          "data": {
            "text/plain": [
              "<matplotlib.axes._subplots.AxesSubplot at 0x7fe70d99fc10>"
            ]
          },
          "metadata": {},
          "execution_count": 21
        },
        {
          "output_type": "display_data",
          "data": {
            "text/plain": [
              "<Figure size 1080x504 with 1 Axes>"
            ],
            "image/png": "[encoded data removed]"
          },
          "metadata": {}
        }
      ]
    },
    {
      "cell_type": "code",
      "source": [
        "sns.pairplot(data=data)"
      ],
      "metadata": {
        "colab": {
          "base_uri": "https://localhost:8080/",
          "height": 1000
        },
        "id": "0fyklRaMIo86",
        "outputId": "fe5aac09-4f0c-41d5-afc6-83d23faa3c35"
      },
      "execution_count": 22,
      "outputs": [
        {
          "output_type": "execute_result",
          "data": {
            "text/plain": [
              "<seaborn.axisgrid.PairGrid at 0x7fe70d859410>"
            ]
          },
          "metadata": {},
          "execution_count": 22
        },
        {
          "output_type": "display_data",
          "data": {
            "text/plain": [
              "<Figure size 1080x1080 with 42 Axes>"
            ],
            "image/png": "[encoded data removed]"
          },
          "metadata": {}
        }
      ]
    },
    {
      "cell_type": "code",
      "source": [
        "plt.figure(figsize=(20,10))\n",
        "c=data.corr()\n",
        "sns.heatmap(c,cmap='BrBG',annot=True)"
      ],
      "metadata": {
        "colab": {
          "base_uri": "https://localhost:8080/",
          "height": 654
        },
        "id": "oIvwXoq-Jc4E",
        "outputId": "94879a4e-58fc-4e34-8504-893d1f92dd4f"
      },
      "execution_count": 23,
      "outputs": [
        {
          "output_type": "execute_result",
          "data": {
            "text/plain": [
              "<matplotlib.axes._subplots.AxesSubplot at 0x7fe7051e3b50>"
            ]
          },
          "metadata": {},
          "execution_count": 23
        },
        {
          "output_type": "display_data",
          "data": {
            "text/plain": [
              "<Figure size 1440x720 with 2 Axes>"
            ],
            "image/png": "[encoded data removed]"
          },
          "metadata": {}
        }
      ]
    },
    {
      "cell_type": "code",
      "source": [
        "data.isnull().any()"
      ],
      "metadata": {
        "colab": {
          "base_uri": "https://localhost:8080/"
        },
        "id": "r33Fl4XIQakz",
        "outputId": "c5bb873d-2156-4d31-93e8-efaac7d2908c"
      },
      "execution_count": 24,
      "outputs": [
        {
          "output_type": "execute_result",
          "data": {
            "text/plain": [
              "NM      False\n",
              "H2      False\n",
              "CH4     False\n",
              "C2H6    False\n",
              "C2H4    False\n",
              "C2H2    False\n",
              "Type    False\n",
              "dtype: bool"
            ]
          },
          "metadata": {},
          "execution_count": 24
        }
      ]
    },
    {
      "cell_type": "code",
      "source": [
        "X=data.drop(['Type'],axis=1)\n",
        "Y=data['Type']"
      ],
      "metadata": {
        "id": "D4kIFUxdo_X_"
      },
      "execution_count": 44,
      "outputs": []
    },
    {
      "cell_type": "code",
      "source": [
        "from sklearn.model_selection import train_test_split\n",
        "Xtrain,Xtest,Ytrain,Ytest=train_test_split(X,Y,train_size=0.5)\n"
      ],
      "metadata": {
        "id": "MitLnHSfp2tr"
      },
      "execution_count": 45,
      "outputs": []
    },
    {
      "cell_type": "code",
      "source": [
        "Xtrain"
      ],
      "metadata": {
        "colab": {
          "base_uri": "https://localhost:8080/",
          "height": 424
        },
        "id": "LMBcxH4OqTOB",
        "outputId": "a562631c-1c70-4b2c-8a52-108ff007dec7"
      },
      "execution_count": 46,
      "outputs": [
        {
          "output_type": "execute_result",
          "data": {
            "text/plain": [
              "      NM       H2      CH4    C2H6     C2H4     C2H2\n",
              "68    69   800.00   160.00   23.00   260.00   600.00\n",
              "145  146   130.00   140.00   24.00   120.00     0.00\n",
              "254  255   140.00     1.00   35.00    97.00    76.00\n",
              "62    63   220.00    77.00   22.00   170.00   240.00\n",
              "102  103   116.17   180.83   52.48   278.18     5.36\n",
              "..   ...      ...      ...     ...      ...      ...\n",
              "193  194  1450.00   940.00  211.00   322.00    61.00\n",
              "185  186  1270.00  3450.00  520.00  1390.00     8.00\n",
              "30    31  1330.00    10.00   20.00    66.00   182.00\n",
              "105  106    20.00    80.20   24.60    68.60     0.00\n",
              "74    75  3700.00  1690.00  128.00  2810.00  3270.00\n",
              "\n",
              "[135 rows x 6 columns]"
            ],
            "text/html": [
              "\n",
              "  <div id=\"df-cf4b9d30-1ed5-42d6-afbf-52ee339a3669\">\n",
              "    <div class=\"colab-df-container\">\n",
              "      <div>\n",
              "<style scoped>\n",
              "    .dataframe tbody tr th:only-of-type {\n",
              "        vertical-align: middle;\n",
              "    }\n",
              "\n",
              "    .dataframe tbody tr th {\n",
              "        vertical-align: top;\n",
              "    }\n",
              "\n",
              "    .dataframe thead th {\n",
              "        text-align: right;\n",
              "    }\n",
              "</style>\n",
              "<table border=\"1\" class=\"dataframe\">\n",
              "  <thead>\n",
              "    <tr style=\"text-align: right;\">\n",
              "      <th></th>\n",
              "      <th>NM</th>\n",
              "      <th>H2</th>\n",
              "      <th>CH4</th>\n",
              "      <th>C2H6</th>\n",
              "      <th>C2H4</th>\n",
              "      <th>C2H2</th>\n",
              "    </tr>\n",
              "  </thead>\n",
              "  <tbody>\n",
              "    <tr>\n",
              "      <th>68</th>\n",
              "      <td>69</td>\n",
              "      <td>800.00</td>\n",
              "      <td>160.00</td>\n",
              "      <td>23.00</td>\n",
              "      <td>260.00</td>\n",
              "      <td>600.00</td>\n",
              "    </tr>\n",
              "    <tr>\n",
              "      <th>145</th>\n",
              "      <td>146</td>\n",
              "      <td>130.00</td>\n",
              "      <td>140.00</td>\n",
              "      <td>24.00</td>\n",
              "      <td>120.00</td>\n",
              "      <td>0.00</td>\n",
              "    </tr>\n",
              "    <tr>\n",
              "      <th>254</th>\n",
              "      <td>255</td>\n",
              "      <td>140.00</td>\n",
              "      <td>1.00</td>\n",
              "      <td>35.00</td>\n",
              "      <td>97.00</td>\n",
              "      <td>76.00</td>\n",
              "    </tr>\n",
              "    <tr>\n",
              "      <th>62</th>\n",
              "      <td>63</td>\n",
              "      <td>220.00</td>\n",
              "      <td>77.00</td>\n",
              "      <td>22.00</td>\n",
              "      <td>170.00</td>\n",
              "      <td>240.00</td>\n",
              "    </tr>\n",
              "    <tr>\n",
              "      <th>102</th>\n",
              "      <td>103</td>\n",
              "      <td>116.17</td>\n",
              "      <td>180.83</td>\n",
              "      <td>52.48</td>\n",
              "      <td>278.18</td>\n",
              "      <td>5.36</td>\n",
              "    </tr>\n",
              "    <tr>\n",
              "      <th>...</th>\n",
              "      <td>...</td>\n",
              "      <td>...</td>\n",
              "      <td>...</td>\n",
              "      <td>...</td>\n",
              "      <td>...</td>\n",
              "      <td>...</td>\n",
              "    </tr>\n",
              "    <tr>\n",
              "      <th>193</th>\n",
              "      <td>194</td>\n",
              "      <td>1450.00</td>\n",
              "      <td>940.00</td>\n",
              "      <td>211.00</td>\n",
              "      <td>322.00</td>\n",
              "      <td>61.00</td>\n",
              "    </tr>\n",
              "    <tr>\n",
              "      <th>185</th>\n",
              "      <td>186</td>\n",
              "      <td>1270.00</td>\n",
              "      <td>3450.00</td>\n",
              "      <td>520.00</td>\n",
              "      <td>1390.00</td>\n",
              "      <td>8.00</td>\n",
              "    </tr>\n",
              "    <tr>\n",
              "      <th>30</th>\n",
              "      <td>31</td>\n",
              "      <td>1330.00</td>\n",
              "      <td>10.00</td>\n",
              "      <td>20.00</td>\n",
              "      <td>66.00</td>\n",
              "      <td>182.00</td>\n",
              "    </tr>\n",
              "    <tr>\n",
              "      <th>105</th>\n",
              "      <td>106</td>\n",
              "      <td>20.00</td>\n",
              "      <td>80.20</td>\n",
              "      <td>24.60</td>\n",
              "      <td>68.60</td>\n",
              "      <td>0.00</td>\n",
              "    </tr>\n",
              "    <tr>\n",
              "      <th>74</th>\n",
              "      <td>75</td>\n",
              "      <td>3700.00</td>\n",
              "      <td>1690.00</td>\n",
              "      <td>128.00</td>\n",
              "      <td>2810.00</td>\n",
              "      <td>3270.00</td>\n",
              "    </tr>\n",
              "  </tbody>\n",
              "</table>\n",
              "<p>135 rows × 6 columns</p>\n",
              "</div>\n",
              "      <button class=\"colab-df-convert\" onclick=\"convertToInteractive('df-cf4b9d30-1ed5-42d6-afbf-52ee339a3669')\"\n",
              "              title=\"Convert this dataframe to an interactive table.\"\n",
              "              style=\"display:none;\">\n",
              "        \n",
              "  <svg xmlns=\"http://www.w3.org/2000/svg\" height=\"24px\"viewBox=\"0 0 24 24\"\n",
              "       width=\"24px\">\n",
              "    <path d=\"M0 0h24v24H0V0z\" fill=\"none\"/>\n",
              "    <path d=\"M18.56 5.44l.94 2.06.94-2.06 2.06-.94-2.06-.94-.94-2.06-.94 2.06-2.06.94zm-11 1L8.5 8.5l.94-2.06 2.06-.94-2.06-.94L8.5 2.5l-.94 2.06-2.06.94zm10 10l.94 2.06.94-2.06 2.06-.94-2.06-.94-.94-2.06-.94 2.06-2.06.94z\"/><path d=\"M17.41 7.96l-1.37-1.37c-.4-.4-.92-.59-1.43-.59-.52 0-1.04.2-1.43.59L10.3 9.45l-7.72 7.72c-.78.78-.78 2.05 0 2.83L4 21.41c.39.39.9.59 1.41.59.51 0 1.02-.2 1.41-.59l7.78-7.78 2.81-2.81c.8-.78.8-2.07 0-2.86zM5.41 20L4 18.59l7.72-7.72 1.47 1.35L5.41 20z\"/>\n",
              "  </svg>\n",
              "      </button>\n",
              "      \n",
              "  <style>\n",
              "    .colab-df-container {\n",
              "      display:flex;\n",
              "      flex-wrap:wrap;\n",
              "      gap: 12px;\n",
              "    }\n",
              "\n",
              "    .colab-df-convert {\n",
              "      background-color: #E8F0FE;\n",
              "      border: none;\n",
              "      border-radius: 50%;\n",
              "      cursor: pointer;\n",
              "      display: none;\n",
              "      fill: #1967D2;\n",
              "      height: 32px;\n",
              "      padding: 0 0 0 0;\n",
              "      width: 32px;\n",
              "    }\n",
              "\n",
              "    .colab-df-convert:hover {\n",
              "      background-color: #E2EBFA;\n",
              "      box-shadow: 0px 1px 2px rgba(60, 64, 67, 0.3), 0px 1px 3px 1px rgba(60, 64, 67, 0.15);\n",
              "      fill: #174EA6;\n",
              "    }\n",
              "\n",
              "    [theme=dark] .colab-df-convert {\n",
              "      background-color: #3B4455;\n",
              "      fill: #D2E3FC;\n",
              "    }\n",
              "\n",
              "    [theme=dark] .colab-df-convert:hover {\n",
              "      background-color: #434B5C;\n",
              "      box-shadow: 0px 1px 3px 1px rgba(0, 0, 0, 0.15);\n",
              "      filter: drop-shadow(0px 1px 2px rgba(0, 0, 0, 0.3));\n",
              "      fill: #FFFFFF;\n",
              "    }\n",
              "  </style>\n",
              "\n",
              "      <script>\n",
              "        const buttonEl =\n",
              "          document.querySelector('#df-cf4b9d30-1ed5-42d6-afbf-52ee339a3669 button.colab-df-convert');\n",
              "        buttonEl.style.display =\n",
              "          google.colab.kernel.accessAllowed ? 'block' : 'none';\n",
              "\n",
              "        async function convertToInteractive(key) {\n",
              "          const element = document.querySelector('#df-cf4b9d30-1ed5-42d6-afbf-52ee339a3669');\n",
              "          const dataTable =\n",
              "            await google.colab.kernel.invokeFunction('convertToInteractive',\n",
              "                                                     [key], {});\n",
              "          if (!dataTable) return;\n",
              "\n",
              "          const docLinkHtml = 'Like what you see? Visit the ' +\n",
              "            '<a target=\"_blank\" href=https://colab.research.google.com/notebooks/data_table.ipynb>data table notebook</a>'\n",
              "            + ' to learn more about interactive tables.';\n",
              "          element.innerHTML = '';\n",
              "          dataTable['output_type'] = 'display_data';\n",
              "          await google.colab.output.renderOutput(dataTable, element);\n",
              "          const docLink = document.createElement('div');\n",
              "          docLink.innerHTML = docLinkHtml;\n",
              "          element.appendChild(docLink);\n",
              "        }\n",
              "      </script>\n",
              "    </div>\n",
              "  </div>\n",
              "  "
            ]
          },
          "metadata": {},
          "execution_count": 46
        }
      ]
    },
    {
      "cell_type": "code",
      "source": [
        "from sklearn.preprocessing import StandardScaler\n",
        "sc = StandardScaler().fit(Xtrain)\n",
        "Xtrain = sc.transform(Xtrain)\n",
        "Xtest = sc.transform(Xtest)"
      ],
      "metadata": {
        "id": "w_G0TnDcsHml"
      },
      "execution_count": 47,
      "outputs": []
    },
    {
      "cell_type": "code",
      "source": [
        "from sklearn import svm\n",
        "cl = svm.SVC(kernel='linear', C=0.01)\n",
        "cl.fit(Xtrain, Ytrain)\n"
      ],
      "metadata": {
        "colab": {
          "base_uri": "https://localhost:8080/"
        },
        "id": "GHUz_IDjqeu9",
        "outputId": "954b611c-cb3b-4060-93a6-9a0cef2c46f9"
      },
      "execution_count": 48,
      "outputs": [
        {
          "output_type": "execute_result",
          "data": {
            "text/plain": [
              "SVC(C=0.01, kernel='linear')"
            ]
          },
          "metadata": {},
          "execution_count": 48
        }
      ]
    },
    {
      "cell_type": "code",
      "source": [
        "Ypred = cl.predict(Xtrain)"
      ],
      "metadata": {
        "id": "khLNLG05sbee"
      },
      "execution_count": 49,
      "outputs": []
    },
    {
      "cell_type": "code",
      "source": [
        "Ypred_1 = cl.predict(Xtest)\n",
        "Ypred_1"
      ],
      "metadata": {
        "colab": {
          "base_uri": "https://localhost:8080/"
        },
        "id": "De1h9_2vsn_1",
        "outputId": "b792bab0-20b0-4e05-b8c6-dc0dd5a64a89"
      },
      "execution_count": 50,
      "outputs": [
        {
          "output_type": "execute_result",
          "data": {
            "text/plain": [
              "array(['No fault', 'Arc discharge', 'Arc discharge', 'Arc discharge',\n",
              "       'No fault', 'Arc discharge', 'Arc discharge', 'Arc discharge',\n",
              "       'Arc discharge', 'Arc discharge', 'Arc discharge', 'No fault',\n",
              "       'Arc discharge', 'Arc discharge', 'Arc discharge', 'Arc discharge',\n",
              "       'Arc discharge', 'Arc discharge', 'Arc discharge', 'Arc discharge',\n",
              "       'Arc discharge', 'Arc discharge', 'Arc discharge', 'No fault',\n",
              "       'Arc discharge', 'Arc discharge', 'Arc discharge', 'Arc discharge',\n",
              "       'Arc discharge', 'Arc discharge', 'Arc discharge', 'Arc discharge',\n",
              "       'Arc discharge', 'No fault', 'No fault', 'Arc discharge',\n",
              "       'Arc discharge', 'Arc discharge', 'Arc discharge', 'Arc discharge',\n",
              "       'Arc discharge', 'Arc discharge', 'Arc discharge', 'Arc discharge',\n",
              "       'Arc discharge', 'Arc discharge', 'No fault', 'Arc discharge',\n",
              "       'Arc discharge', 'Arc discharge', 'No fault', 'Arc discharge',\n",
              "       'Arc discharge', 'Arc discharge', 'Arc discharge', 'Arc discharge',\n",
              "       'Arc discharge', 'Arc discharge', 'Arc discharge', 'Arc discharge',\n",
              "       'Arc discharge', 'Arc discharge', 'Arc discharge', 'Arc discharge',\n",
              "       'Arc discharge', 'Arc discharge', 'Arc discharge', 'Arc discharge',\n",
              "       'Arc discharge', 'Arc discharge', 'Arc discharge', 'Arc discharge',\n",
              "       'Arc discharge', 'Arc discharge', 'Arc discharge', 'Arc discharge',\n",
              "       'Arc discharge', 'Arc discharge', 'Arc discharge', 'Arc discharge',\n",
              "       'Arc discharge', 'No fault', 'No fault', 'Arc discharge',\n",
              "       'Arc discharge', 'Arc discharge', 'Arc discharge', 'Arc discharge',\n",
              "       'Arc discharge', 'Arc discharge', 'Arc discharge', 'Arc discharge',\n",
              "       'Arc discharge', 'Arc discharge', 'Arc discharge', 'Arc discharge',\n",
              "       'Arc discharge', 'Arc discharge', 'Arc discharge', 'No fault',\n",
              "       'Arc discharge', 'Arc discharge', 'Arc discharge', 'Arc discharge',\n",
              "       'Arc discharge', 'Arc discharge', 'Arc discharge', 'Arc discharge',\n",
              "       'Arc discharge', 'Arc discharge', 'Arc discharge', 'Arc discharge',\n",
              "       'Arc discharge', 'Arc discharge', 'Arc discharge', 'Arc discharge',\n",
              "       'Arc discharge', 'Arc discharge', 'Arc discharge', 'Arc discharge',\n",
              "       'Arc discharge', 'Arc discharge', 'Arc discharge', 'Arc discharge',\n",
              "       'Arc discharge', 'No fault', 'Arc discharge', 'Arc discharge',\n",
              "       'Arc discharge', 'Arc discharge', 'Arc discharge', 'Arc discharge',\n",
              "       'Arc discharge', 'Arc discharge', 'Arc discharge', 'Arc discharge'],\n",
              "      dtype=object)"
            ]
          },
          "metadata": {},
          "execution_count": 50
        }
      ]
    },
    {
      "cell_type": "code",
      "source": [
        "from sklearn.metrics import accuracy_score, confusion_matrix\n",
        "cm = confusion_matrix(Ytest, Ypred_1)\n",
        "cm"
      ],
      "metadata": {
        "colab": {
          "base_uri": "https://localhost:8080/"
        },
        "id": "3mpNbi2usyEM",
        "outputId": "d3a7b101-3b0a-4589-d19c-7c1834d95e0a"
      },
      "execution_count": 52,
      "outputs": [
        {
          "output_type": "execute_result",
          "data": {
            "text/plain": [
              "array([[26,  0,  0,  0,  0,  0,  0,  0,  0,  0,  0],\n",
              "       [ 0,  0,  0,  0,  0,  0,  0,  9,  0,  0,  0],\n",
              "       [14,  0,  0,  0,  0,  0,  0,  0,  0,  0,  0],\n",
              "       [ 6,  0,  0,  0,  0,  0,  0,  0,  0,  0,  0],\n",
              "       [11,  0,  0,  0,  0,  0,  0,  0,  0,  0,  0],\n",
              "       [ 8,  0,  0,  0,  0,  0,  0,  0,  0,  0,  0],\n",
              "       [ 6,  0,  0,  0,  0,  0,  0,  0,  0,  0,  0],\n",
              "       [14,  0,  0,  0,  0,  0,  0,  3,  0,  0,  0],\n",
              "       [ 6,  0,  0,  0,  0,  0,  0,  0,  0,  0,  0],\n",
              "       [24,  0,  0,  0,  0,  0,  0,  0,  0,  0,  0],\n",
              "       [ 9,  0,  0,  0,  0,  0,  0,  0,  0,  0,  0]])"
            ]
          },
          "metadata": {},
          "execution_count": 52
        }
      ]
    },
    {
      "cell_type": "code",
      "source": [
        "acc = accuracy_score(Ytest, Ypred_1)\n",
        "acc"
      ],
      "metadata": {
        "colab": {
          "base_uri": "https://localhost:8080/"
        },
        "id": "8tBHrIiys8BI",
        "outputId": "cced30eb-d579-42dc-cd46-c97766471ca0"
      },
      "execution_count": 54,
      "outputs": [
        {
          "output_type": "execute_result",
          "data": {
            "text/plain": [
              "0.21323529411764705"
            ]
          },
          "metadata": {},
          "execution_count": 54
        }
      ]
    },
    {
      "cell_type": "code",
      "source": [
        "from sklearn.model_selection import GridSearchCV\n",
        "parameters = {'C': [0.001, 0.005, 0.01, 0.05, 0.1, 0.5, 1, 5, 10, 50, 100, 500, 1000, 5000],\n",
        "              'degree': [2, 3, 4, 5],\n",
        "              'gamma':[0.001, 0.01, 0.1, 0.5, 1],\n",
        "              'kernel': ['rbf','poly']\n",
        "              }        \n",
        "cl = svm.SVC()\n",
        "grid = GridSearchCV(cl, parameters, cv=10)\n",
        "grid.fit(Xtrain, Ytrain)\n",
        "print(grid.best_params_)\n",
        "print(grid.best_estimator_)"
      ],
      "metadata": {
        "colab": {
          "base_uri": "https://localhost:8080/"
        },
        "id": "Z2AdDuhXtMG5",
        "outputId": "276b7dc8-868a-49e5-be74-d4afb1fc1675"
      },
      "execution_count": 55,
      "outputs": [
        {
          "output_type": "stream",
          "name": "stderr",
          "text": [
            "/usr/local/lib/python3.7/dist-packages/sklearn/model_selection/_split.py:680: UserWarning: The least populated class in y has only 1 members, which is less than n_splits=10.\n",
            "  UserWarning,\n"
          ]
        },
        {
          "output_type": "stream",
          "name": "stdout",
          "text": [
            "{'C': 5000, 'degree': 2, 'gamma': 0.1, 'kernel': 'rbf'}\n",
            "SVC(C=5000, degree=2, gamma=0.1)\n"
          ]
        }
      ]
    },
    {
      "cell_type": "code",
      "source": [
        "from sklearn.metrics import classification_report\n",
        "grid_prediction = grid.predict(Xtest)\n",
        "print(classification_report(Ytest, grid_prediction))\n"
      ],
      "metadata": {
        "colab": {
          "base_uri": "https://localhost:8080/"
        },
        "id": "DHkENAKYtUkR",
        "outputId": "edbae2bf-c90a-4ef6-c649-c37c3fbed650"
      },
      "execution_count": 57,
      "outputs": [
        {
          "output_type": "stream",
          "name": "stdout",
          "text": [
            "                                    precision    recall  f1-score   support\n",
            "\n",
            "                     Arc discharge       0.93      1.00      0.96        26\n",
            "          High intensity discharge       1.00      0.78      0.88         9\n",
            "      High-temperature overheating       0.82      0.64      0.72        14\n",
            "           Low intensity discharge       0.86      1.00      0.92         6\n",
            "       Low-temperature overheating       0.53      0.91      0.67        11\n",
            "Low/Middle-temperature overheating       1.00      0.75      0.86         8\n",
            "    Middle-temperature overheating       0.00      0.00      0.00         6\n",
            "                          No fault       0.89      1.00      0.94        17\n",
            "                 Partial discharge       1.00      0.67      0.80         6\n",
            "                   Spark discharge       0.88      0.92      0.90        24\n",
            "                     Thermal fault       0.90      1.00      0.95         9\n",
            "\n",
            "                          accuracy                           0.85       136\n",
            "                         macro avg       0.80      0.79      0.78       136\n",
            "                      weighted avg       0.84      0.85      0.84       136\n",
            "\n"
          ]
        },
        {
          "output_type": "stream",
          "name": "stderr",
          "text": [
            "/usr/local/lib/python3.7/dist-packages/sklearn/metrics/_classification.py:1318: UndefinedMetricWarning: Precision and F-score are ill-defined and being set to 0.0 in labels with no predicted samples. Use `zero_division` parameter to control this behavior.\n",
            "  _warn_prf(average, modifier, msg_start, len(result))\n",
            "/usr/local/lib/python3.7/dist-packages/sklearn/metrics/_classification.py:1318: UndefinedMetricWarning: Precision and F-score are ill-defined and being set to 0.0 in labels with no predicted samples. Use `zero_division` parameter to control this behavior.\n",
            "  _warn_prf(average, modifier, msg_start, len(result))\n",
            "/usr/local/lib/python3.7/dist-packages/sklearn/metrics/_classification.py:1318: UndefinedMetricWarning: Precision and F-score are ill-defined and being set to 0.0 in labels with no predicted samples. Use `zero_division` parameter to control this behavior.\n",
            "  _warn_prf(average, modifier, msg_start, len(result))\n"
          ]
        }
      ]
    }
  ]
}